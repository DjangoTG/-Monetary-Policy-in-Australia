{
  "cells": [
    {
      "cell_type": "raw",
      "metadata": {},
      "source": [
        "---\n",
        "title: \"Examing the Relationship between Monetary Policy and Income Inequality in Australia: A Structural Vector Autoregression Analysis\"\n",
        "author: \"Django Trueman-Greinke\"\n",
        "\n",
        "execute:\n",
        "  echo: false\n",
        "  \n",
        "bibliography: references.bib\n",
        "---"
      ],
      "id": "86a7495c"
    },
    {
      "cell_type": "markdown",
      "metadata": {},
      "source": [
        "> **Abstract.** Using data from the Australian Bureau of Statistics, this paper attempts to understand how changes in fiscal policy impact income inequality in Australia using a Structural Vector Autoregression (SVAR) approach.\n",
        "\n",
        "> **Keywords.** Fiscal policy, income inequality, impluse response function, structural vector autoregressions, Australia, Gini coefficient\n",
        "\n",
        "# Introduction\n",
        "\n",
        "High levels of income inequality can lead to social and economic instability and well as limiting development. With the increasing exposure to the level's income inequality has reached in Australia and worldwide, people are no longer happy to watch as the top 1% take in almost two-thirds of all new wealth.\n",
        "\n",
        "Using an SVAR model, this paper examines the dynamic relationships between fiscal policy, such as government spending and taxation,  and income inequality, measured by the Gini coefficient.  \n",
        "\n",
        "\n",
        "# Data\n",
        "\n",
        "\n",
        "``` {Data}\n",
        "\n",
        "  echo: true\n",
        "```\n",
        "\n",
        "## References {.unnumbered}"
      ],
      "id": "b037653e"
    }
  ],
  "metadata": {
    "kernelspec": {
      "display_name": "Python 3",
      "language": "python",
      "name": "python3"
    }
  },
  "nbformat": 4,
  "nbformat_minor": 5
}